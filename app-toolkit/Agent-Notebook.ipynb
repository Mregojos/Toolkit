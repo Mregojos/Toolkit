{
 "cells": [
  {
   "cell_type": "markdown",
   "id": "3802712c-05d2-44ff-b790-12e676a6e782",
   "metadata": {
    "tags": []
   },
   "source": [
    "# Multimodal Deployment\n",
    "\n",
    "Resource: ai.google.dev/doccs"
   ]
  },
  {
   "cell_type": "code",
   "execution_count": null,
   "id": "0c333255-d54b-4cb7-b59e-c178b064fc5b",
   "metadata": {
    "tags": []
   },
   "outputs": [],
   "source": [
    "!pip install google-cloud-aiplatform -q -U"
   ]
  },
  {
   "cell_type": "code",
   "execution_count": null,
   "id": "38a07110-ec3f-4801-8e18-0474b9896876",
   "metadata": {
    "tags": []
   },
   "outputs": [],
   "source": [
    "import vertexai\n",
    "from vertexai.preview.generative_models import GenerativeModel, Part\n",
    "import time as t"
   ]
  },
  {
   "cell_type": "markdown",
   "id": "c40b3f34-c927-411b-a192-df79d61fc7cc",
   "metadata": {},
   "source": [
    "## Chat Capable Model"
   ]
  },
  {
   "cell_type": "code",
   "execution_count": null,
   "id": "8ed9a4c2-7c31-40cb-a2d8-2ba5ddfb2db1",
   "metadata": {
    "tags": []
   },
   "outputs": [],
   "source": [
    "mm_model = GenerativeModel(\"gemini-pro\")\n",
    "mm_chat = mm_model.start_chat()"
   ]
  },
  {
   "cell_type": "code",
   "execution_count": null,
   "id": "52165b1b-88bd-4b2f-ade7-bfcfa51c20b6",
   "metadata": {
    "tags": []
   },
   "outputs": [],
   "source": [
    "# For Jupyter\n",
    "from IPython.display import display, Markdown"
   ]
  },
  {
   "cell_type": "code",
   "execution_count": null,
   "id": "4e459ea0-291b-4c53-932a-22a346173c2d",
   "metadata": {
    "tags": []
   },
   "outputs": [],
   "source": [
    "def start_chat(prompt):\n",
    "    start = t.time()\n",
    "    response = mm_chat.send_message(prompt)\n",
    "    display(Markdown(response.text))\n",
    "    end = t.time()\n",
    "    print(f\"Total Processing Time: {end - start}\")"
   ]
  },
  {
   "cell_type": "code",
   "execution_count": null,
   "id": "d08983ec-bf6c-4b66-a572-3fa988d7f256",
   "metadata": {
    "tags": []
   },
   "outputs": [],
   "source": [
    "def start_chat_stream(prompt):\n",
    "    start = t.time()\n",
    "    response_ = \"\"\n",
    "    response = mm_chat.send_message(prompt, stream=True)\n",
    "    for chunk in response:\n",
    "        print(chunk.text)\n",
    "        response_ = response_ + chunk.text \n",
    "    display(Markdown(response_))\n",
    "    end = t.time()\n",
    "    print(f\"Total Processing Time: {end - start}\")"
   ]
  },
  {
   "cell_type": "code",
   "execution_count": null,
   "id": "e677e02e-3ef0-4ff7-8453-ae31a4943d1a",
   "metadata": {
    "tags": []
   },
   "outputs": [],
   "source": [
    "prompt = input(\"Prompt\")\n",
    "stream = input(\"Stream: T or F\")\n",
    "if stream == \"T\":\n",
    "    start_chat_stream(prompt)\n",
    "elif stream == \"F\":\n",
    "    start_chat(prompt)"
   ]
  },
  {
   "cell_type": "code",
   "execution_count": null,
   "id": "2408a498-0936-4904-b421-a3ca88e14898",
   "metadata": {
    "tags": []
   },
   "outputs": [],
   "source": [
    "# Chat History\n",
    "mm_chat.history"
   ]
  },
  {
   "cell_type": "code",
   "execution_count": null,
   "id": "ac2e8efe-95f6-47eb-97d7-03db0f8e9676",
   "metadata": {},
   "outputs": [],
   "source": []
  },
  {
   "cell_type": "markdown",
   "id": "08301b40-ef17-48e3-994b-64ac8d6af104",
   "metadata": {
    "tags": []
   },
   "source": [
    "## One Turn Model"
   ]
  },
  {
   "cell_type": "code",
   "execution_count": null,
   "id": "e2b790f2-c408-476b-82f3-651ef15e7cfe",
   "metadata": {},
   "outputs": [],
   "source": [
    "mm_model = GenerativeModel(\"gemini-pro\")"
   ]
  },
  {
   "cell_type": "code",
   "execution_count": null,
   "id": "a6b6fede-515c-4e3f-929f-00355ea62592",
   "metadata": {
    "tags": []
   },
   "outputs": [],
   "source": [
    "def start_one_turn(prompt):\n",
    "    start = t.time()\n",
    "    response = mm_model.generate_content(prompt)\n",
    "    display(Markdown(response.text))\n",
    "    end = t.time()\n",
    "    print(f\"Total Processing Time: {end - start}\")"
   ]
  },
  {
   "cell_type": "code",
   "execution_count": null,
   "id": "4ae3b1a7-4b58-4f0b-99ea-3288c735abc5",
   "metadata": {
    "tags": []
   },
   "outputs": [],
   "source": [
    "def start_one_turn_stream(prompt):\n",
    "    start = t.time()\n",
    "    response_ = \"\"\n",
    "    response = mm_model.generate_content(prompt, stream=True)\n",
    "    for chunk in response:\n",
    "        print(chunk.text)\n",
    "        response_ = response_ + chunk.text \n",
    "    display(Markdown(response_))\n",
    "    end = t.time()\n",
    "    print(f\"Total Processing Time: {end - start}\")"
   ]
  },
  {
   "cell_type": "code",
   "execution_count": null,
   "id": "8a5ad994-39e4-45fd-bae5-0516b595b946",
   "metadata": {
    "tags": []
   },
   "outputs": [],
   "source": [
    "prompt = input(\"Prompt\")\n",
    "stream = input(\"Stream: T or F\")\n",
    "if stream == \"T\":\n",
    "    start_one_turn_stream(prompt)\n",
    "elif stream == \"F\":\n",
    "    start_one_turn(prompt)"
   ]
  },
  {
   "cell_type": "code",
   "execution_count": null,
   "id": "69ecaf87-0a62-47e5-9986-c3135c22bfce",
   "metadata": {},
   "outputs": [],
   "source": []
  },
  {
   "cell_type": "code",
   "execution_count": null,
   "id": "12e9d200-eb5e-42df-91a4-c2e939685e1d",
   "metadata": {},
   "outputs": [],
   "source": [
    "# Multi-Turn\n",
    "# It doesn't work for vertexai."
   ]
  },
  {
   "cell_type": "code",
   "execution_count": null,
   "id": "fa7d65b5-8857-4f09-8f64-be4e7b6d44e6",
   "metadata": {},
   "outputs": [],
   "source": [
    "mm_model = GenerativeModel(\"gemini-pro\")"
   ]
  },
  {
   "cell_type": "code",
   "execution_count": null,
   "id": "842a0f0a-8651-4488-8253-232f4103356c",
   "metadata": {
    "tags": []
   },
   "outputs": [],
   "source": [
    "def start_multi_turn(prompt):\n",
    "    messages = [\n",
    "            {'role': 'user',\n",
    "             'parts': [prompt]}\n",
    "    ]\n",
    "    response = mm_model.generate_content(messages)\n",
    "    display(Markdown(response.text))"
   ]
  },
  {
   "cell_type": "code",
   "execution_count": null,
   "id": "f14950cd-acb5-4685-acfe-a61c76c18220",
   "metadata": {
    "tags": []
   },
   "outputs": [],
   "source": [
    "def start_multi_turn(prompt):\n",
    "    messages = [\n",
    "            {'role': 'user',\n",
    "             'parts': [prompt]}\n",
    "    ]\n",
    "    response = mm_model.generate_content(messages)\n",
    "    display(Markdown(response.text))\n",
    "    messages.append({'role': 'model',\n",
    "             'parts': [response.text]})\n",
    "    messages.append({'role': 'user',\n",
    "             'parts': [prompt]})\n",
    "    response = mm_model.generate_content(messages)\n",
    "    display(Markdown(response.text))    "
   ]
  },
  {
   "cell_type": "code",
   "execution_count": null,
   "id": "dcd03b08-9a02-41c0-988c-5bf0aa32a19c",
   "metadata": {
    "tags": []
   },
   "outputs": [],
   "source": [
    "prompt = input(\"Prompt\")\n",
    "stream = input(\"Stream: T or F\")\n",
    "if stream == \"F\":\n",
    "    start_multi_turn(prompt)"
   ]
  },
  {
   "cell_type": "code",
   "execution_count": null,
   "id": "ee2e0f19-6d94-4db0-ae9e-20ee18515394",
   "metadata": {},
   "outputs": [],
   "source": []
  },
  {
   "cell_type": "code",
   "execution_count": null,
   "id": "5808cc24-7c5b-45e2-b3c7-a06210fc4482",
   "metadata": {},
   "outputs": [],
   "source": [
    "# Encode Messages"
   ]
  },
  {
   "cell_type": "code",
   "execution_count": null,
   "id": "14d89a0f-cff0-4a06-942e-e70da14196b5",
   "metadata": {},
   "outputs": [],
   "source": []
  },
  {
   "cell_type": "code",
   "execution_count": null,
   "id": "5418cb0a-5432-47fa-a0bd-d7c58996eec5",
   "metadata": {},
   "outputs": [],
   "source": []
  },
  {
   "cell_type": "code",
   "execution_count": null,
   "id": "a2a63398-ae04-402b-8bfb-2256f0d3cfba",
   "metadata": {},
   "outputs": [],
   "source": []
  },
  {
   "cell_type": "code",
   "execution_count": null,
   "id": "54676491-d4e2-4b37-b023-9f6350be6189",
   "metadata": {},
   "outputs": [],
   "source": []
  }
 ],
 "metadata": {
  "environment": {
   "kernel": "python3",
   "name": "tf2-cpu.2-11.m114",
   "type": "gcloud",
   "uri": "gcr.io/deeplearning-platform-release/tf2-cpu.2-11:m114"
  },
  "kernelspec": {
   "display_name": "Python 3",
   "language": "python",
   "name": "python3"
  },
  "language_info": {
   "codemirror_mode": {
    "name": "ipython",
    "version": 3
   },
   "file_extension": ".py",
   "mimetype": "text/x-python",
   "name": "python",
   "nbconvert_exporter": "python",
   "pygments_lexer": "ipython3",
   "version": "3.10.13"
  }
 },
 "nbformat": 4,
 "nbformat_minor": 5
}
